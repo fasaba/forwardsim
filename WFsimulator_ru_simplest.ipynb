{
 "cells": [
  {
   "cell_type": "code",
   "execution_count": null,
   "metadata": {},
   "outputs": [],
   "source": [
    "### simple simulator for haploid lineages - using multinomial"
   ]
  },
  {
   "cell_type": "code",
   "execution_count": 20,
   "metadata": {},
   "outputs": [],
   "source": [
    "### population size is constant and equals N\n",
    "N = 100"
   ]
  },
  {
   "cell_type": "code",
   "execution_count": 21,
   "metadata": {},
   "outputs": [],
   "source": [
    "import numpy as np"
   ]
  },
  {
   "cell_type": "code",
   "execution_count": 22,
   "metadata": {},
   "outputs": [
    {
     "name": "stdout",
     "output_type": "stream",
     "text": [
      "[100, 63, 45, 40, 36, 29, 24, 22, 18, 17, 16, 15, 14, 13, 13, 12, 12, 12, 12, 11, 10, 10, 10, 10, 10, 10, 10, 10, 9, 9, 9, 9, 9, 8, 8, 8, 7, 7, 7, 7, 7, 7, 7, 6, 6, 5, 5, 4, 4, 4, 4, 4, 4, 4, 4, 4, 4, 4, 4, 4, 4, 4, 4, 4, 4, 4, 4, 4, 4, 4, 4, 4, 4, 4, 4, 4, 4, 4, 4, 4, 4, 4, 4, 4, 4, 4, 4, 4, 4, 4, 4, 4, 4, 4, 3, 3, 3, 3, 3, 3]\n",
      "[100, 62, 45, 36, 28, 28, 27, 24, 22, 19, 15, 14, 14, 12, 12, 11, 11, 11, 10, 9, 9, 8, 8, 8, 7, 6, 6, 6, 6, 6, 6, 6, 5, 5, 5, 5, 5, 5, 4, 4, 4, 4, 4, 4, 4, 4, 4, 4, 4, 4, 4, 4, 4, 4, 4, 4, 4, 3, 3, 3, 3, 3, 3, 3, 3, 3, 3, 3, 3, 3, 3, 3, 3, 3, 3, 3, 3, 3, 3, 3, 3, 3, 3, 3, 2, 2, 2, 2, 2, 2, 2, 2, 2, 2, 2, 2, 2, 2, 2, 2]\n",
      "[100, 61, 44, 34, 30, 24, 23, 22, 20, 17, 15, 14, 14, 14, 12, 12, 12, 11, 11, 11, 10, 10, 9, 8, 8, 6, 6, 6, 6, 6, 6, 6, 6, 6, 6, 6, 6, 6, 6, 6, 6, 5, 5, 5, 5, 5, 5, 5, 5, 5, 5, 5, 5, 5, 5, 5, 5, 5, 5, 4, 4, 4, 4, 3, 3, 3, 3, 3, 3, 3, 3, 3, 3, 3, 3, 3, 3, 3, 3, 3, 3, 3, 3, 3, 3, 3, 3, 3, 3, 3, 3, 3, 3, 3, 3, 3, 3, 3, 3, 3]\n"
     ]
    }
   ],
   "source": [
    "for replicate in range(3):\n",
    "\n",
    "# create an array of N lineages with equal counts in a population of size N\n",
    "    n = np.array([1]*N)\n",
    "    n.shape\n",
    "\n",
    "# specify number of generations to simulate \n",
    "    gen_number = 100\n",
    "    gen_range = range(gen_number)\n",
    "\n",
    "# remaining lineages after each generation for each replicate\n",
    "    remainingLines = list()\n",
    "# simulation of frequencies of each lineage for gen_number generations\n",
    "    for gen in gen_range:\n",
    "        if gen==0:\n",
    "    ## calculate lineages frequencies in current generation when array data is 1D\n",
    "            frequency_current = n / np.sum(n)\n",
    "    ## sample lineages from current to next generation and compute corresponding counts\n",
    "            counts_next = np.random.multinomial(N, frequency_current)\n",
    "    ## update the count matrix with counts of the next generation\n",
    "            n = np.column_stack((n, counts_next))\n",
    "    \n",
    "        else:\n",
    "    ## calculate lineages frequencies in current generation once array is multiD\n",
    "            frequency_current = n[:,gen] / np.sum(n[:,gen])\n",
    "    ## sample lineages from current to next generation and compute corresponding counts\n",
    "            counts_next = np.random.multinomial(N, frequency_current)\n",
    "    ## update the count matrix with counts of the next generation\n",
    "            n = np.column_stack((n, counts_next))\n",
    "        remainingLines.append(np.count_nonzero(n[:,gen]))\n",
    "    print(remainingLines)"
   ]
  }
 ],
 "metadata": {
  "kernelspec": {
   "display_name": "Python 3",
   "language": "python",
   "name": "python3"
  },
  "language_info": {
   "codemirror_mode": {
    "name": "ipython",
    "version": 3
   },
   "file_extension": ".py",
   "mimetype": "text/x-python",
   "name": "python",
   "nbconvert_exporter": "python",
   "pygments_lexer": "ipython3",
   "version": "3.6.5"
  }
 },
 "nbformat": 4,
 "nbformat_minor": 2
}
