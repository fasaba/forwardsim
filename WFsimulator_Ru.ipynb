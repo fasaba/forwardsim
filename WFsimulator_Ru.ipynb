{
 "cells": [
  {
   "cell_type": "code",
   "execution_count": 1,
   "metadata": {},
   "outputs": [],
   "source": [
    "## Forward simulator of haplotype frequencies with recombination"
   ]
  },
  {
   "cell_type": "code",
   "execution_count": 1,
   "metadata": {},
   "outputs": [],
   "source": [
    "import numpy as np"
   ]
  },
  {
   "cell_type": "code",
   "execution_count": 10,
   "metadata": {},
   "outputs": [],
   "source": [
    "# create generation 0 object\n",
    "# set of original haplotypes which are sequences"
   ]
  },
  {
   "cell_type": "code",
   "execution_count": 2,
   "metadata": {},
   "outputs": [],
   "source": [
    "# simulate a generation and create a generation object with contains haplotype objects\n",
    "N0 = 100\n",
    "Nprev = 100\n",
    "Ncurrent = 100"
   ]
  },
  {
   "cell_type": "code",
   "execution_count": 222,
   "metadata": {},
   "outputs": [
    {
     "data": {
      "text/plain": [
       "[array([1, 3]), array([0.6, 0.4])]"
      ]
     },
     "execution_count": 222,
     "metadata": {},
     "output_type": "execute_result"
    }
   ],
   "source": [
    "# a haplotype object looks like this\n",
    "myparents = np.array([1, 3])\n",
    "myproportions = np.array([0.6, 0.4])\n",
    "H1_1 = [myparents, myproportions]\n",
    "H1_1"
   ]
  },
  {
   "cell_type": "code",
   "execution_count": null,
   "metadata": {},
   "outputs": [],
   "source": [
    "# to create each haplotype in any given generation 3 functions are required: get_recombinations, get_parents, get_proportions"
   ]
  },
  {
   "cell_type": "code",
   "execution_count": 178,
   "metadata": {},
   "outputs": [],
   "source": [
    "# returns a 1D array containing 1 integer, the number of recombination events for new haplotype\n",
    "def get_recombinations (r, L):\n",
    "    \"Returns number of recombination events drawn from poisson distribution given a scaled recombination rate\"    \n",
    "    lam =r*L  # scale recombination rate by length of haplotype\n",
    "    recombinations = np.random.poisson(lam) # draw random value from poisson distribution being lambda the rescaled recombination rate \n",
    "    return recombinations    "
   ]
  },
  {
   "cell_type": "code",
   "execution_count": 216,
   "metadata": {},
   "outputs": [
    {
     "data": {
      "text/plain": [
       "1"
      ]
     },
     "execution_count": 216,
     "metadata": {},
     "output_type": "execute_result"
    }
   ],
   "source": [
    "get_recombinations(2e-8, 10e6)"
   ]
  },
  {
   "cell_type": "code",
   "execution_count": 217,
   "metadata": {},
   "outputs": [],
   "source": [
    "# returns a 1D array containing the index of the parents of the haplotype drawn from the previous generation\n",
    "def get_parents (recombinations, Nprev):\n",
    "    \"Returns a 1D array containing the index of the parents of the current haplotype drawn from the previous generation\"\n",
    "    numberOfparents = ((recombinations) + 1)\n",
    "    parentsIndexes = np.array(range(1, (Nprev+1)))\n",
    "    \n",
    "    # random sampling of parents indexes from uniform distribution with replacement\n",
    "    myParents = np.random.choice(parentsIndexes, numberOfparents, replace = True, p = [1/parentsIndexes.size]*parentsIndexes.size)\n",
    "    return myParents"
   ]
  },
  {
   "cell_type": "code",
   "execution_count": 221,
   "metadata": {},
   "outputs": [
    {
     "data": {
      "text/plain": [
       "array([16, 92])"
      ]
     },
     "execution_count": 221,
     "metadata": {},
     "output_type": "execute_result"
    }
   ],
   "source": [
    "get_parents(1, 100)"
   ]
  },
  {
   "cell_type": "code",
   "execution_count": 223,
   "metadata": {},
   "outputs": [],
   "source": [
    "# computes a 1D array of breakpoints, as many floats as recombination events drawn from a uniform normalised distribution\n",
    "# returns a 1D array with proportions of each parent haplotype for descendant by computing differences between 0, successive breakpoints and 1  \n",
    "def get_proportions (recombinations):\n",
    "    \"Picks randomly as many breakpoints as crossovers and returns 1D array with intervals between 0, the breakpoints and 1, i.e. the proportions parent haplotypes\"\n",
    "    breakpoints = np.random.uniform(0, 1, recombinations) # draw as many values from a uniform distribution as number of recombinations\n",
    "    l = np.array([0, 1]) # create fixed limits for interval of proportions\n",
    "    intervals = np.diff(np.sort(np.append(l, breakpoints), axis = None)) # calculate differences between sorted interval limits and breakpoints\n",
    "    return intervals\n"
   ]
  },
  {
   "cell_type": "code",
   "execution_count": 225,
   "metadata": {},
   "outputs": [
    {
     "data": {
      "text/plain": [
       "array([0.50385711, 0.46398656, 0.03215632])"
      ]
     },
     "execution_count": 225,
     "metadata": {},
     "output_type": "execute_result"
    }
   ],
   "source": [
    "get_proportions(2)"
   ]
  },
  {
   "cell_type": "code",
   "execution_count": 32,
   "metadata": {},
   "outputs": [],
   "source": [
    "# define class haplotype with attributed myparents and myproportions\n"
   ]
  },
  {
   "cell_type": "code",
   "execution_count": null,
   "metadata": {},
   "outputs": [],
   "source": [
    "# define class generation with attribute 'populate' which is a for loop of instantiation of class haplotype as many times as Ncurrent\n",
    "def generation(generations, Nprev, Ncurrent, r, L):\n",
    "    for i in range(1, generations):\n",
    "        H = [i]\n",
    "        haplotype(Nprev, Ncurrent, r, L)\n",
    "        H.append(haplotype)\n",
    "    return H\n"
   ]
  }
 ],
 "metadata": {
  "kernelspec": {
   "display_name": "Python 3",
   "language": "python",
   "name": "python3"
  },
  "language_info": {
   "codemirror_mode": {
    "name": "ipython",
    "version": 3
   },
   "file_extension": ".py",
   "mimetype": "text/x-python",
   "name": "python",
   "nbconvert_exporter": "python",
   "pygments_lexer": "ipython3",
   "version": "3.6.5"
  }
 },
 "nbformat": 4,
 "nbformat_minor": 2
}
