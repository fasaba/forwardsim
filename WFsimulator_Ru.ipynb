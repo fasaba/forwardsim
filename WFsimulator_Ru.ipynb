{
 "cells": [
  {
   "cell_type": "code",
   "execution_count": 1,
   "metadata": {},
   "outputs": [],
   "source": [
    "## Forward simulator of haplotype frequencies with recombination\n"
   ]
  },
  {
   "cell_type": "code",
   "execution_count": 2,
   "metadata": {},
   "outputs": [],
   "source": [
    "import numpy as np"
   ]
  },
  {
   "cell_type": "code",
   "execution_count": 3,
   "metadata": {},
   "outputs": [],
   "source": [
    "# create generation 0 object\n",
    "# set of original haplotypes which are sequences"
   ]
  },
  {
   "cell_type": "code",
   "execution_count": 4,
   "metadata": {},
   "outputs": [],
   "source": [
    "# simulate a generation and create a generation object with contains haplotype objects"
   ]
  },
  {
   "cell_type": "code",
   "execution_count": 6,
   "metadata": {},
   "outputs": [
    {
     "name": "stdout",
     "output_type": "stream",
     "text": [
      "[[1 1]]\n",
      "[[2 2]]\n",
      "[[3 3]]\n"
     ]
    }
   ],
   "source": [
    "# a haplotype object looks like this\n",
    "myparents = np.array(1)\n",
    "myproportions = np.array(1)\n",
    "H1_1 = np.column_stack((myparents, myproportions))\n",
    "print(H1_1)\n",
    "\n",
    "myparents = np.array(2)\n",
    "myproportions = np.array(2)\n",
    "H1_2 = np.column_stack((myparents, myproportions))\n",
    "print(H1_2)\n",
    "\n",
    "myparents = np.array(3)\n",
    "myproportions = np.array(3)\n",
    "H1_3 = np.column_stack((myparents, myproportions))\n",
    "print(H1_3)"
   ]
  },
  {
   "cell_type": "code",
   "execution_count": null,
   "metadata": {},
   "outputs": [],
   "source": [
    "# for loop Ncurrent times to create 2N haplotypes in the next generation\n",
    "# to create each individual 3 functions are required"
   ]
  },
  {
   "cell_type": "code",
   "execution_count": null,
   "metadata": {},
   "outputs": [],
   "source": [
    "# returns a 1D array containing 1 integer, the number of recombination events\n",
    "get_recombinations (R=r*L) "
   ]
  },
  {
   "cell_type": "code",
   "execution_count": null,
   "metadata": {},
   "outputs": [],
   "source": [
    "# returns a 1D array containing the index of the parents of the haplotype drawn from the previous generation\n",
    "get_parents (get_recombinations, Nprev)\n",
    "numberOfparents = ((get_recombinations) + 1)"
   ]
  },
  {
   "cell_type": "code",
   "execution_count": null,
   "metadata": {},
   "outputs": [],
   "source": [
    "# computes a 1D array of breakpoints, as many floats as recombination events drawn from a uniform normalised distribution\n",
    "# returns a 1D array with proportions of each parent haplotype for descendant by computing differences between 0, successive breakpoints and 1  \n",
    "get_proportions (get_recombinations)\n",
    "breakpoints = sample_from_uniform_distribution\n"
   ]
  }
 ],
 "metadata": {
  "kernelspec": {
   "display_name": "Python 3",
   "language": "python",
   "name": "python3"
  },
  "language_info": {
   "codemirror_mode": {
    "name": "ipython",
    "version": 3
   },
   "file_extension": ".py",
   "mimetype": "text/x-python",
   "name": "python",
   "nbconvert_exporter": "python",
   "pygments_lexer": "ipython3",
   "version": "3.6.5"
  }
 },
 "nbformat": 4,
 "nbformat_minor": 2
}
